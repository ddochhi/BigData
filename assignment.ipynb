{
 "cells": [
  {
   "cell_type": "markdown",
   "id": "f73630ad",
   "metadata": {},
   "source": [
    "# 1. 지하철 유무임 승차비율 데이터 분석 (50점)"
   ]
  },
  {
   "cell_type": "code",
   "execution_count": 1,
   "id": "0f4daac5",
   "metadata": {},
   "outputs": [
    {
     "name": "stdout",
     "output_type": "stream",
     "text": [
      "<_csv.reader object at 0x1173b1070>\n"
     ]
    }
   ],
   "source": [
    "import csv\n",
    "import numpy as np\n",
    "import matplotlib.pyplot as plt\n",
    "\n",
    "data = []\n",
    "with open('Metro_fare.csv', 'r', encoding='cp949') as f:\n",
    "    source = csv.reader(f, delimiter=',')\n",
    "    print(source)\n",
    "    header = next(source)\n",
    "    for row in source:\n",
    "        data.append(row)"
   ]
  },
  {
   "cell_type": "markdown",
   "id": "5ac07187",
   "metadata": {},
   "source": [
    "## - (1) 총 승차인원(유임승차 + 무임승차)과 총 하차인원(유임하차 + 무임하차)이 가장 많은 역과 승차인원을 출력하세요. (25점) "
   ]
  },
  {
   "cell_type": "code",
   "execution_count": 2,
   "id": "2679f6a2",
   "metadata": {},
   "outputs": [],
   "source": [
    "data_np = np.array(data, dtype = object) # 리스트 형태의 데이터를 배열로 변환"
   ]
  },
  {
   "cell_type": "code",
   "execution_count": 3,
   "id": "a661024f",
   "metadata": {},
   "outputs": [],
   "source": [
    "def change_int(x): # 숫자로 변환\n",
    "    x = int(x.replace(',',''))\n",
    "    return x"
   ]
  },
  {
   "cell_type": "code",
   "execution_count": 4,
   "id": "90b0b13f",
   "metadata": {},
   "outputs": [
    {
     "name": "stdout",
     "output_type": "stream",
     "text": [
      "최대 승차: 강남역 2209994\n",
      "최대 하차: 강남역 2175932\n"
     ]
    }
   ],
   "source": [
    "max_on = 0\n",
    "max_down = 0\n",
    "\n",
    "for i in range(len(data_np)):\n",
    "    \n",
    "    for j in range(4, 8):\n",
    "        if isinstance(data_np[i][j], str):\n",
    "            data_np[i][j] = change_int(data_np[i][j])\n",
    "            \n",
    "\n",
    "    on = data_np[i][4] + data_np[i][6]\n",
    "    if on > max_on:\n",
    "        max_on = on\n",
    "        index_on = i\n",
    "\n",
    "        \n",
    "    down = data_np[i][5] + data_np[i][7]\n",
    "    if down > max_down:\n",
    "        max_down = down\n",
    "        index_down = i\n",
    "        \n",
    "\n",
    "print(f\"최대 승차: {data_np[index_on][3]}역 {max_on}\")\n",
    "print(f\"최대 하차: {data_np[index_down][3]}역 {max_down}\")"
   ]
  },
  {
   "cell_type": "markdown",
   "id": "c758150b",
   "metadata": {},
   "source": [
    "## 1-(2) 유임승차자 비율(유임승차자/총 승차인원)이 높은 상위 10개의 역과 그 비율을 구하시오."
   ]
  },
  {
   "cell_type": "code",
   "execution_count": 5,
   "id": "94fea176",
   "metadata": {},
   "outputs": [
    {
     "name": "stdout",
     "output_type": "stream",
     "text": [
      "1. 한양대역 0.95570\n",
      "2. 홍대입구역 0.94716\n",
      "3. 홍대입구역 0.94658\n",
      "4. 서울역역 0.94036\n",
      "5. 마곡나루(서울식물원)역 0.94005\n",
      "6. 신논현역 0.93840\n",
      "7. 여의도역 0.93735\n",
      "8. 한강진역 0.93722\n",
      "9. 디지털미디어시티역 0.93384\n",
      "10. 청라국제도시역 0.93327\n"
     ]
    }
   ],
   "source": [
    "ratio = []\n",
    "\n",
    "for i in range(len(data_np)):\n",
    "    data_np[i][9] = change_int(data_np[i][9])\n",
    "\n",
    "    a = data_np[i][4] / (data_np[i][4] + data_np[i][6])\n",
    "    ratio.append(a)\n",
    "\n",
    "data_upd = np.column_stack((data_np, ratio))\n",
    "sorted_array = data_upd[np.argsort(data_upd[:, -1])[::-1]]\n",
    "\n",
    "for i in range(10):\n",
    "    print(f\"{i+1}. {sorted_array[i][3]}역 {sorted_array[i][10]:.5f}\")"
   ]
  },
  {
   "cell_type": "markdown",
   "id": "d98faef0",
   "metadata": {},
   "source": [
    "# 2. 지하철 시간대별 승하차 데이터 분석 (50점)"
   ]
  },
  {
   "cell_type": "code",
   "execution_count": 6,
   "id": "1384be02",
   "metadata": {},
   "outputs": [],
   "source": [
    "import csv\n",
    "data = []\n",
    "with open('Metro_time.csv', 'r', encoding='cp949') as f:\n",
    "    source = csv.reader(f, delimiter=',')\n",
    "    header = next(source)\n",
    "    header2 = next(source)\n",
    "    for row in source:\n",
    "        data.append(row)"
   ]
  },
  {
   "cell_type": "markdown",
   "id": "db3e2dc4",
   "metadata": {},
   "source": [
    "## (1) 출근 시간대(7시~9시) 승차인원과 하차인원 각각에 대해 정렬된 barplot을 그리고, 인원이 가장 많은 역과 인원을 각각 찾으세요. (25점)"
   ]
  },
  {
   "cell_type": "code",
   "execution_count": 8,
   "id": "9aa918a2",
   "metadata": {},
   "outputs": [],
   "source": [
    "data_np = np.array(data, dtype = object) # 리스트 형태의 데이터를 배열로 변환"
   ]
  },
  {
   "cell_type": "code",
   "execution_count": 9,
   "id": "c7c55f48",
   "metadata": {
    "scrolled": true
   },
   "outputs": [
    {
     "data": {
      "text/plain": [
       "<BarContainer object of 615 artists>"
      ]
     },
     "execution_count": 9,
     "metadata": {},
     "output_type": "execute_result"
    },
    {
     "data": {
      "image/png": "[encoded data removed]",
      "text/plain": [
       "<Figure size 640x480 with 1 Axes>"
      ]
     },
     "metadata": {},
     "output_type": "display_data"
    }
   ],
   "source": [
    "work_on = []\n",
    "work_down = []\n",
    "max_1 = 0\n",
    "max_2 = 0\n",
    "for i in range(len(data_np)):\n",
    "    for j in range(4,52):\n",
    "        if isinstance(data_np[i][j], str):\n",
    "            data_np[i][j] = change_int(data_np[i][j])\n",
    "            \n",
    "    sum_on = data_np[i][10] + data_np[i][12]\n",
    "    work_on.append(sum_on)\n",
    "    \n",
    "    if sum_on > max_1:\n",
    "        max_1 = sum_on\n",
    "        index_1 = i\n",
    "\n",
    "\n",
    "    sum_down = data_np[i][11] + data_np[i][13]\n",
    "    work_down.append(sum_down)\n",
    "\n",
    "    if sum_down > max_2:\n",
    "        max_2 = sum_down\n",
    "        index_2 = i\n",
    "\n",
    "# 승차인원 그래프 그리기\n",
    "on_np = np.array(work_on)\n",
    "on_sort = on_np[np.argsort(on_np)]\n",
    "\n",
    "plt.bar(range(len(on_sort)),on_sort, width=2)"
   ]
  },
  {
   "cell_type": "code",
   "execution_count": 10,
   "id": "a1ad715c",
   "metadata": {},
   "outputs": [
    {
     "name": "stdout",
     "output_type": "stream",
     "text": [
      "승차인원 가장 많은 역: 신림역 469127\n"
     ]
    }
   ],
   "source": [
    "# 승차인원이 가장 많은 역 출력\n",
    "print(f\"승차인원 가장 많은 역: {data_np[index_1][3]}역 {max_1}\")"
   ]
  },
  {
   "cell_type": "code",
   "execution_count": 11,
   "id": "e62f71f4",
   "metadata": {},
   "outputs": [
    {
     "data": {
      "text/plain": [
       "<BarContainer object of 615 artists>"
      ]
     },
     "execution_count": 11,
     "metadata": {},
     "output_type": "execute_result"
    },
    {
     "data": {
      "image/png": "[encoded data removed]",
      "text/plain": [
       "<Figure size 640x480 with 1 Axes>"
      ]
     },
     "metadata": {},
     "output_type": "display_data"
    }
   ],
   "source": [
    "# 하차인원 그래프\n",
    "\n",
    "down_np = np.array(work_down)\n",
    "down_sort = down_np[np.argsort(down_np)]\n",
    "\n",
    "plt.bar(range(len(down_sort)),down_sort, width=2)"
   ]
  },
  {
   "cell_type": "code",
   "execution_count": 12,
   "id": "9313280f",
   "metadata": {},
   "outputs": [
    {
     "name": "stdout",
     "output_type": "stream",
     "text": [
      "하차인원 가장 많은 역: 가산디지털단지역 486420\n"
     ]
    }
   ],
   "source": [
    "# 하차인원이 가장 많은 역 출력\n",
    "print(f\"하차인원 가장 많은 역: {data_np[index_2][3]}역 {max_2}\")"
   ]
  },
  {
   "cell_type": "markdown",
   "id": "974cf41e",
   "metadata": {},
   "source": [
    "## (2) 각 시간대별 모든 지하철역에서의 총 승차인원의 합과 총 하차인원의 합을 구하고, x축을 시간, y축을 인원으로 하는 그래프로 나타내시오. (25점) "
   ]
  },
  {
   "cell_type": "code",
   "execution_count": 13,
   "id": "78f0d65e",
   "metadata": {},
   "outputs": [],
   "source": [
    "for i in range(len(data_np)):\n",
    "    for j in range(4,52):\n",
    "        if isinstance(data_np[i][j], str):\n",
    "            data_np[i][j] = change_int(data_np[i][j])       "
   ]
  },
  {
   "cell_type": "code",
   "execution_count": 14,
   "id": "2193dcab",
   "metadata": {},
   "outputs": [
    {
     "data": {
      "image/png": "[encoded data removed]",
      "text/plain": [
       "<Figure size 640x480 with 1 Axes>"
      ]
     },
     "metadata": {},
     "output_type": "display_data"
    }
   ],
   "source": [
    "on_col = data_np[:,4:-1:2]\n",
    "total_on = np.sum(on_col,axis=0)\n",
    "\n",
    "down_col = data_np[:,5:-1:2]\n",
    "total_down = np.sum(down_col,axis = 0)\n",
    "\n",
    "# 그래프 그리기\n",
    "time = np.arange(4,28)\n",
    "\n",
    "plt.plot(time,total_on,'blue',label='board')\n",
    "plt.plot(time,total_down,'orange',label = 'deboard')\n",
    "plt.legend(loc = 'upper right')\n",
    "\n",
    "plt.show()"
   ]
  }
 ],
 "metadata": {
  "kernelspec": {
   "display_name": "Python 3 (ipykernel)",
   "language": "python",
   "name": "python3"
  },
  "language_info": {
   "codemirror_mode": {
    "name": "ipython",
    "version": 3
   },
   "file_extension": ".py",
   "mimetype": "text/x-python",
   "name": "python",
   "nbconvert_exporter": "python",
   "pygments_lexer": "ipython3",
   "version": "3.10.9"
  }
 },
 "nbformat": 4,
 "nbformat_minor": 5
}
